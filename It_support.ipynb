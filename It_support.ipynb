{
 "cells": [
  {
   "cell_type": "markdown",
   "id": "8891e5c7-39d4-4bdb-82a1-221f19928dbf",
   "metadata": {},
   "source": [
    "# Install Libaries"
   ]
  },
  {
   "cell_type": "code",
   "execution_count": 1,
   "id": "ad8a1f1f-3a59-4970-a8ae-97ccacd2758f",
   "metadata": {},
   "outputs": [
    {
     "name": "stdout",
     "output_type": "stream",
     "text": [
      "Requirement already satisfied: langchain in c:\\users\\kiit\\anaconda3\\lib\\site-packages (0.3.24)\n",
      "Requirement already satisfied: langchain-core<1.0.0,>=0.3.55 in c:\\users\\kiit\\anaconda3\\lib\\site-packages (from langchain) (0.3.56)\n",
      "Requirement already satisfied: langchain-text-splitters<1.0.0,>=0.3.8 in c:\\users\\kiit\\anaconda3\\lib\\site-packages (from langchain) (0.3.8)\n",
      "Requirement already satisfied: langsmith<0.4,>=0.1.17 in c:\\users\\kiit\\anaconda3\\lib\\site-packages (from langchain) (0.3.38)\n",
      "Requirement already satisfied: pydantic<3.0.0,>=2.7.4 in c:\\users\\kiit\\anaconda3\\lib\\site-packages (from langchain) (2.8.2)\n",
      "Requirement already satisfied: SQLAlchemy<3,>=1.4 in c:\\users\\kiit\\anaconda3\\lib\\site-packages (from langchain) (2.0.34)\n",
      "Requirement already satisfied: requests<3,>=2 in c:\\users\\kiit\\anaconda3\\lib\\site-packages (from langchain) (2.32.3)\n",
      "Requirement already satisfied: PyYAML>=5.3 in c:\\users\\kiit\\anaconda3\\lib\\site-packages (from langchain) (6.0.1)\n",
      "Requirement already satisfied: tenacity!=8.4.0,<10.0.0,>=8.1.0 in c:\\users\\kiit\\anaconda3\\lib\\site-packages (from langchain-core<1.0.0,>=0.3.55->langchain) (8.2.3)\n",
      "Requirement already satisfied: jsonpatch<2.0,>=1.33 in c:\\users\\kiit\\anaconda3\\lib\\site-packages (from langchain-core<1.0.0,>=0.3.55->langchain) (1.33)\n",
      "Requirement already satisfied: packaging<25,>=23.2 in c:\\users\\kiit\\anaconda3\\lib\\site-packages (from langchain-core<1.0.0,>=0.3.55->langchain) (24.1)\n",
      "Requirement already satisfied: typing-extensions>=4.7 in c:\\users\\kiit\\anaconda3\\lib\\site-packages (from langchain-core<1.0.0,>=0.3.55->langchain) (4.11.0)\n",
      "Requirement already satisfied: httpx<1,>=0.23.0 in c:\\users\\kiit\\anaconda3\\lib\\site-packages (from langsmith<0.4,>=0.1.17->langchain) (0.27.0)\n",
      "Requirement already satisfied: orjson<4.0.0,>=3.9.14 in c:\\users\\kiit\\anaconda3\\lib\\site-packages (from langsmith<0.4,>=0.1.17->langchain) (3.10.16)\n",
      "Requirement already satisfied: requests-toolbelt<2.0.0,>=1.0.0 in c:\\users\\kiit\\anaconda3\\lib\\site-packages (from langsmith<0.4,>=0.1.17->langchain) (1.0.0)\n",
      "Requirement already satisfied: zstandard<0.24.0,>=0.23.0 in c:\\users\\kiit\\anaconda3\\lib\\site-packages (from langsmith<0.4,>=0.1.17->langchain) (0.23.0)\n",
      "Requirement already satisfied: annotated-types>=0.4.0 in c:\\users\\kiit\\anaconda3\\lib\\site-packages (from pydantic<3.0.0,>=2.7.4->langchain) (0.6.0)\n",
      "Requirement already satisfied: pydantic-core==2.20.1 in c:\\users\\kiit\\anaconda3\\lib\\site-packages (from pydantic<3.0.0,>=2.7.4->langchain) (2.20.1)\n",
      "Requirement already satisfied: charset-normalizer<4,>=2 in c:\\users\\kiit\\anaconda3\\lib\\site-packages (from requests<3,>=2->langchain) (3.3.2)\n",
      "Requirement already satisfied: idna<4,>=2.5 in c:\\users\\kiit\\anaconda3\\lib\\site-packages (from requests<3,>=2->langchain) (3.7)\n",
      "Requirement already satisfied: urllib3<3,>=1.21.1 in c:\\users\\kiit\\anaconda3\\lib\\site-packages (from requests<3,>=2->langchain) (2.2.3)\n",
      "Requirement already satisfied: certifi>=2017.4.17 in c:\\users\\kiit\\anaconda3\\lib\\site-packages (from requests<3,>=2->langchain) (2025.1.31)\n",
      "Requirement already satisfied: greenlet!=0.4.17 in c:\\users\\kiit\\anaconda3\\lib\\site-packages (from SQLAlchemy<3,>=1.4->langchain) (3.0.1)\n",
      "Requirement already satisfied: anyio in c:\\users\\kiit\\anaconda3\\lib\\site-packages (from httpx<1,>=0.23.0->langsmith<0.4,>=0.1.17->langchain) (4.2.0)\n",
      "Requirement already satisfied: httpcore==1.* in c:\\users\\kiit\\anaconda3\\lib\\site-packages (from httpx<1,>=0.23.0->langsmith<0.4,>=0.1.17->langchain) (1.0.2)\n",
      "Requirement already satisfied: sniffio in c:\\users\\kiit\\anaconda3\\lib\\site-packages (from httpx<1,>=0.23.0->langsmith<0.4,>=0.1.17->langchain) (1.3.0)\n",
      "Requirement already satisfied: h11<0.15,>=0.13 in c:\\users\\kiit\\anaconda3\\lib\\site-packages (from httpcore==1.*->httpx<1,>=0.23.0->langsmith<0.4,>=0.1.17->langchain) (0.14.0)\n",
      "Requirement already satisfied: jsonpointer>=1.9 in c:\\users\\kiit\\anaconda3\\lib\\site-packages (from jsonpatch<2.0,>=1.33->langchain-core<1.0.0,>=0.3.55->langchain) (2.1)\n",
      "Requirement already satisfied: langchain-openai in c:\\users\\kiit\\anaconda3\\lib\\site-packages (0.3.14)\n",
      "Requirement already satisfied: langchain-core<1.0.0,>=0.3.53 in c:\\users\\kiit\\anaconda3\\lib\\site-packages (from langchain-openai) (0.3.56)\n",
      "Requirement already satisfied: openai<2.0.0,>=1.68.2 in c:\\users\\kiit\\anaconda3\\lib\\site-packages (from langchain-openai) (1.75.0)\n",
      "Requirement already satisfied: tiktoken<1,>=0.7 in c:\\users\\kiit\\anaconda3\\lib\\site-packages (from langchain-openai) (0.9.0)\n",
      "Requirement already satisfied: langsmith<0.4,>=0.1.125 in c:\\users\\kiit\\anaconda3\\lib\\site-packages (from langchain-core<1.0.0,>=0.3.53->langchain-openai) (0.3.38)\n",
      "Requirement already satisfied: tenacity!=8.4.0,<10.0.0,>=8.1.0 in c:\\users\\kiit\\anaconda3\\lib\\site-packages (from langchain-core<1.0.0,>=0.3.53->langchain-openai) (8.2.3)\n",
      "Requirement already satisfied: jsonpatch<2.0,>=1.33 in c:\\users\\kiit\\anaconda3\\lib\\site-packages (from langchain-core<1.0.0,>=0.3.53->langchain-openai) (1.33)\n",
      "Requirement already satisfied: PyYAML>=5.3 in c:\\users\\kiit\\anaconda3\\lib\\site-packages (from langchain-core<1.0.0,>=0.3.53->langchain-openai) (6.0.1)\n",
      "Requirement already satisfied: packaging<25,>=23.2 in c:\\users\\kiit\\anaconda3\\lib\\site-packages (from langchain-core<1.0.0,>=0.3.53->langchain-openai) (24.1)\n",
      "Requirement already satisfied: typing-extensions>=4.7 in c:\\users\\kiit\\anaconda3\\lib\\site-packages (from langchain-core<1.0.0,>=0.3.53->langchain-openai) (4.11.0)\n",
      "Requirement already satisfied: pydantic<3.0.0,>=2.7.4 in c:\\users\\kiit\\anaconda3\\lib\\site-packages (from langchain-core<1.0.0,>=0.3.53->langchain-openai) (2.8.2)\n",
      "Requirement already satisfied: anyio<5,>=3.5.0 in c:\\users\\kiit\\anaconda3\\lib\\site-packages (from openai<2.0.0,>=1.68.2->langchain-openai) (4.2.0)\n",
      "Requirement already satisfied: distro<2,>=1.7.0 in c:\\users\\kiit\\anaconda3\\lib\\site-packages (from openai<2.0.0,>=1.68.2->langchain-openai) (1.9.0)\n",
      "Requirement already satisfied: httpx<1,>=0.23.0 in c:\\users\\kiit\\anaconda3\\lib\\site-packages (from openai<2.0.0,>=1.68.2->langchain-openai) (0.27.0)\n",
      "Requirement already satisfied: jiter<1,>=0.4.0 in c:\\users\\kiit\\anaconda3\\lib\\site-packages (from openai<2.0.0,>=1.68.2->langchain-openai) (0.9.0)\n",
      "Requirement already satisfied: sniffio in c:\\users\\kiit\\anaconda3\\lib\\site-packages (from openai<2.0.0,>=1.68.2->langchain-openai) (1.3.0)\n",
      "Requirement already satisfied: tqdm>4 in c:\\users\\kiit\\anaconda3\\lib\\site-packages (from openai<2.0.0,>=1.68.2->langchain-openai) (4.66.5)\n",
      "Requirement already satisfied: regex>=2022.1.18 in c:\\users\\kiit\\anaconda3\\lib\\site-packages (from tiktoken<1,>=0.7->langchain-openai) (2024.9.11)\n",
      "Requirement already satisfied: requests>=2.26.0 in c:\\users\\kiit\\anaconda3\\lib\\site-packages (from tiktoken<1,>=0.7->langchain-openai) (2.32.3)\n",
      "Requirement already satisfied: idna>=2.8 in c:\\users\\kiit\\anaconda3\\lib\\site-packages (from anyio<5,>=3.5.0->openai<2.0.0,>=1.68.2->langchain-openai) (3.7)\n",
      "Requirement already satisfied: certifi in c:\\users\\kiit\\anaconda3\\lib\\site-packages (from httpx<1,>=0.23.0->openai<2.0.0,>=1.68.2->langchain-openai) (2025.1.31)\n",
      "Requirement already satisfied: httpcore==1.* in c:\\users\\kiit\\anaconda3\\lib\\site-packages (from httpx<1,>=0.23.0->openai<2.0.0,>=1.68.2->langchain-openai) (1.0.2)\n",
      "Requirement already satisfied: h11<0.15,>=0.13 in c:\\users\\kiit\\anaconda3\\lib\\site-packages (from httpcore==1.*->httpx<1,>=0.23.0->openai<2.0.0,>=1.68.2->langchain-openai) (0.14.0)\n",
      "Requirement already satisfied: jsonpointer>=1.9 in c:\\users\\kiit\\anaconda3\\lib\\site-packages (from jsonpatch<2.0,>=1.33->langchain-core<1.0.0,>=0.3.53->langchain-openai) (2.1)\n",
      "Requirement already satisfied: orjson<4.0.0,>=3.9.14 in c:\\users\\kiit\\anaconda3\\lib\\site-packages (from langsmith<0.4,>=0.1.125->langchain-core<1.0.0,>=0.3.53->langchain-openai) (3.10.16)\n",
      "Requirement already satisfied: requests-toolbelt<2.0.0,>=1.0.0 in c:\\users\\kiit\\anaconda3\\lib\\site-packages (from langsmith<0.4,>=0.1.125->langchain-core<1.0.0,>=0.3.53->langchain-openai) (1.0.0)\n",
      "Requirement already satisfied: zstandard<0.24.0,>=0.23.0 in c:\\users\\kiit\\anaconda3\\lib\\site-packages (from langsmith<0.4,>=0.1.125->langchain-core<1.0.0,>=0.3.53->langchain-openai) (0.23.0)\n",
      "Requirement already satisfied: annotated-types>=0.4.0 in c:\\users\\kiit\\anaconda3\\lib\\site-packages (from pydantic<3.0.0,>=2.7.4->langchain-core<1.0.0,>=0.3.53->langchain-openai) (0.6.0)\n",
      "Requirement already satisfied: pydantic-core==2.20.1 in c:\\users\\kiit\\anaconda3\\lib\\site-packages (from pydantic<3.0.0,>=2.7.4->langchain-core<1.0.0,>=0.3.53->langchain-openai) (2.20.1)\n",
      "Requirement already satisfied: charset-normalizer<4,>=2 in c:\\users\\kiit\\anaconda3\\lib\\site-packages (from requests>=2.26.0->tiktoken<1,>=0.7->langchain-openai) (3.3.2)\n",
      "Requirement already satisfied: urllib3<3,>=1.21.1 in c:\\users\\kiit\\anaconda3\\lib\\site-packages (from requests>=2.26.0->tiktoken<1,>=0.7->langchain-openai) (2.2.3)\n",
      "Requirement already satisfied: colorama in c:\\users\\kiit\\anaconda3\\lib\\site-packages (from tqdm>4->openai<2.0.0,>=1.68.2->langchain-openai) (0.4.6)\n",
      "Requirement already satisfied: langchain-community in c:\\users\\kiit\\anaconda3\\lib\\site-packages (0.3.23)\n",
      "Requirement already satisfied: langchain-core<1.0.0,>=0.3.56 in c:\\users\\kiit\\anaconda3\\lib\\site-packages (from langchain-community) (0.3.56)\n",
      "Requirement already satisfied: langchain<1.0.0,>=0.3.24 in c:\\users\\kiit\\anaconda3\\lib\\site-packages (from langchain-community) (0.3.24)\n",
      "Requirement already satisfied: SQLAlchemy<3,>=1.4 in c:\\users\\kiit\\anaconda3\\lib\\site-packages (from langchain-community) (2.0.34)\n",
      "Requirement already satisfied: requests<3,>=2 in c:\\users\\kiit\\anaconda3\\lib\\site-packages (from langchain-community) (2.32.3)\n",
      "Requirement already satisfied: PyYAML>=5.3 in c:\\users\\kiit\\anaconda3\\lib\\site-packages (from langchain-community) (6.0.1)\n",
      "Requirement already satisfied: aiohttp<4.0.0,>=3.8.3 in c:\\users\\kiit\\anaconda3\\lib\\site-packages (from langchain-community) (3.10.5)\n",
      "Requirement already satisfied: tenacity!=8.4.0,<10,>=8.1.0 in c:\\users\\kiit\\anaconda3\\lib\\site-packages (from langchain-community) (8.2.3)\n",
      "Requirement already satisfied: dataclasses-json<0.7,>=0.5.7 in c:\\users\\kiit\\anaconda3\\lib\\site-packages (from langchain-community) (0.6.7)\n",
      "Requirement already satisfied: pydantic-settings<3.0.0,>=2.4.0 in c:\\users\\kiit\\anaconda3\\lib\\site-packages (from langchain-community) (2.6.1)\n",
      "Requirement already satisfied: langsmith<0.4,>=0.1.125 in c:\\users\\kiit\\anaconda3\\lib\\site-packages (from langchain-community) (0.3.38)\n",
      "Requirement already satisfied: httpx-sse<1.0.0,>=0.4.0 in c:\\users\\kiit\\anaconda3\\lib\\site-packages (from langchain-community) (0.4.0)\n",
      "Requirement already satisfied: numpy>=1.26.2 in c:\\users\\kiit\\anaconda3\\lib\\site-packages (from langchain-community) (1.26.4)\n",
      "Requirement already satisfied: aiohappyeyeballs>=2.3.0 in c:\\users\\kiit\\anaconda3\\lib\\site-packages (from aiohttp<4.0.0,>=3.8.3->langchain-community) (2.4.0)\n",
      "Requirement already satisfied: aiosignal>=1.1.2 in c:\\users\\kiit\\anaconda3\\lib\\site-packages (from aiohttp<4.0.0,>=3.8.3->langchain-community) (1.2.0)\n",
      "Requirement already satisfied: attrs>=17.3.0 in c:\\users\\kiit\\anaconda3\\lib\\site-packages (from aiohttp<4.0.0,>=3.8.3->langchain-community) (23.1.0)\n",
      "Requirement already satisfied: frozenlist>=1.1.1 in c:\\users\\kiit\\anaconda3\\lib\\site-packages (from aiohttp<4.0.0,>=3.8.3->langchain-community) (1.4.0)\n",
      "Requirement already satisfied: multidict<7.0,>=4.5 in c:\\users\\kiit\\anaconda3\\lib\\site-packages (from aiohttp<4.0.0,>=3.8.3->langchain-community) (6.0.4)\n",
      "Requirement already satisfied: yarl<2.0,>=1.0 in c:\\users\\kiit\\anaconda3\\lib\\site-packages (from aiohttp<4.0.0,>=3.8.3->langchain-community) (1.11.0)\n",
      "Requirement already satisfied: marshmallow<4.0.0,>=3.18.0 in c:\\users\\kiit\\anaconda3\\lib\\site-packages (from dataclasses-json<0.7,>=0.5.7->langchain-community) (3.26.1)\n",
      "Requirement already satisfied: typing-inspect<1,>=0.4.0 in c:\\users\\kiit\\anaconda3\\lib\\site-packages (from dataclasses-json<0.7,>=0.5.7->langchain-community) (0.9.0)\n",
      "Requirement already satisfied: langchain-text-splitters<1.0.0,>=0.3.8 in c:\\users\\kiit\\anaconda3\\lib\\site-packages (from langchain<1.0.0,>=0.3.24->langchain-community) (0.3.8)\n",
      "Requirement already satisfied: pydantic<3.0.0,>=2.7.4 in c:\\users\\kiit\\anaconda3\\lib\\site-packages (from langchain<1.0.0,>=0.3.24->langchain-community) (2.8.2)\n",
      "Requirement already satisfied: jsonpatch<2.0,>=1.33 in c:\\users\\kiit\\anaconda3\\lib\\site-packages (from langchain-core<1.0.0,>=0.3.56->langchain-community) (1.33)\n",
      "Requirement already satisfied: packaging<25,>=23.2 in c:\\users\\kiit\\anaconda3\\lib\\site-packages (from langchain-core<1.0.0,>=0.3.56->langchain-community) (24.1)\n",
      "Requirement already satisfied: typing-extensions>=4.7 in c:\\users\\kiit\\anaconda3\\lib\\site-packages (from langchain-core<1.0.0,>=0.3.56->langchain-community) (4.11.0)\n",
      "Requirement already satisfied: httpx<1,>=0.23.0 in c:\\users\\kiit\\anaconda3\\lib\\site-packages (from langsmith<0.4,>=0.1.125->langchain-community) (0.27.0)\n",
      "Requirement already satisfied: orjson<4.0.0,>=3.9.14 in c:\\users\\kiit\\anaconda3\\lib\\site-packages (from langsmith<0.4,>=0.1.125->langchain-community) (3.10.16)\n",
      "Requirement already satisfied: requests-toolbelt<2.0.0,>=1.0.0 in c:\\users\\kiit\\anaconda3\\lib\\site-packages (from langsmith<0.4,>=0.1.125->langchain-community) (1.0.0)\n",
      "Requirement already satisfied: zstandard<0.24.0,>=0.23.0 in c:\\users\\kiit\\anaconda3\\lib\\site-packages (from langsmith<0.4,>=0.1.125->langchain-community) (0.23.0)\n",
      "Requirement already satisfied: python-dotenv>=0.21.0 in c:\\users\\kiit\\anaconda3\\lib\\site-packages (from pydantic-settings<3.0.0,>=2.4.0->langchain-community) (0.21.0)\n",
      "Requirement already satisfied: charset-normalizer<4,>=2 in c:\\users\\kiit\\anaconda3\\lib\\site-packages (from requests<3,>=2->langchain-community) (3.3.2)\n",
      "Requirement already satisfied: idna<4,>=2.5 in c:\\users\\kiit\\anaconda3\\lib\\site-packages (from requests<3,>=2->langchain-community) (3.7)\n",
      "Requirement already satisfied: urllib3<3,>=1.21.1 in c:\\users\\kiit\\anaconda3\\lib\\site-packages (from requests<3,>=2->langchain-community) (2.2.3)\n",
      "Requirement already satisfied: certifi>=2017.4.17 in c:\\users\\kiit\\anaconda3\\lib\\site-packages (from requests<3,>=2->langchain-community) (2025.1.31)\n",
      "Requirement already satisfied: greenlet!=0.4.17 in c:\\users\\kiit\\anaconda3\\lib\\site-packages (from SQLAlchemy<3,>=1.4->langchain-community) (3.0.1)\n",
      "Requirement already satisfied: anyio in c:\\users\\kiit\\anaconda3\\lib\\site-packages (from httpx<1,>=0.23.0->langsmith<0.4,>=0.1.125->langchain-community) (4.2.0)\n",
      "Requirement already satisfied: httpcore==1.* in c:\\users\\kiit\\anaconda3\\lib\\site-packages (from httpx<1,>=0.23.0->langsmith<0.4,>=0.1.125->langchain-community) (1.0.2)\n",
      "Requirement already satisfied: sniffio in c:\\users\\kiit\\anaconda3\\lib\\site-packages (from httpx<1,>=0.23.0->langsmith<0.4,>=0.1.125->langchain-community) (1.3.0)\n",
      "Requirement already satisfied: h11<0.15,>=0.13 in c:\\users\\kiit\\anaconda3\\lib\\site-packages (from httpcore==1.*->httpx<1,>=0.23.0->langsmith<0.4,>=0.1.125->langchain-community) (0.14.0)\n",
      "Requirement already satisfied: jsonpointer>=1.9 in c:\\users\\kiit\\anaconda3\\lib\\site-packages (from jsonpatch<2.0,>=1.33->langchain-core<1.0.0,>=0.3.56->langchain-community) (2.1)\n",
      "Requirement already satisfied: annotated-types>=0.4.0 in c:\\users\\kiit\\anaconda3\\lib\\site-packages (from pydantic<3.0.0,>=2.7.4->langchain<1.0.0,>=0.3.24->langchain-community) (0.6.0)\n",
      "Requirement already satisfied: pydantic-core==2.20.1 in c:\\users\\kiit\\anaconda3\\lib\\site-packages (from pydantic<3.0.0,>=2.7.4->langchain<1.0.0,>=0.3.24->langchain-community) (2.20.1)\n",
      "Requirement already satisfied: mypy-extensions>=0.3.0 in c:\\users\\kiit\\anaconda3\\lib\\site-packages (from typing-inspect<1,>=0.4.0->dataclasses-json<0.7,>=0.5.7->langchain-community) (1.0.0)\n"
     ]
    }
   ],
   "source": [
    "!pip install langchain\n",
    "!pip install langchain-openai\n",
    "!pip install langchain-community"
   ]
  },
  {
   "cell_type": "markdown",
   "id": "82d521e1-ea5f-4f27-9f82-354e85efdb44",
   "metadata": {},
   "source": [
    "# Enter Open AI API key "
   ]
  },
  {
   "cell_type": "code",
   "execution_count": 3,
   "id": "717bf665-1332-4860-800a-f94070573f1a",
   "metadata": {},
   "outputs": [
    {
     "name": "stdin",
     "output_type": "stream",
     "text": [
      "enter your api key here :  ········\n"
     ]
    }
   ],
   "source": [
    "from getpass import getpass\n",
    "OPENAPI_KEY=getpass(\"enter your api key here : \")"
   ]
  },
  {
   "cell_type": "markdown",
   "id": "d8c43f10-c471-4d95-8082-d05e425098c2",
   "metadata": {},
   "source": [
    "# Set Environment Variables"
   ]
  },
  {
   "cell_type": "code",
   "execution_count": 5,
   "id": "825564bf-38b0-45b3-a58b-ce47d4f6c86f",
   "metadata": {},
   "outputs": [],
   "source": [
    "import os \n",
    "os.environ[\"OPENAI_API_KEY\"]=OPENAPI_KEY"
   ]
  },
  {
   "cell_type": "markdown",
   "id": "a6f5c408-b0d5-41d7-935f-a7c49f81aa49",
   "metadata": {},
   "source": [
    "# Load necessary Dependcies and Chatgpt LLM"
   ]
  },
  {
   "cell_type": "code",
   "execution_count": 7,
   "id": "4285bef3-2590-4b9f-8f63-b236dc9766c7",
   "metadata": {},
   "outputs": [],
   "source": [
    "from langchain_core.prompts import ChatPromptTemplate\n",
    "from langchain_openai import ChatOpenAI"
   ]
  },
  {
   "cell_type": "markdown",
   "id": "95d9986a-e019-4dfb-ab0a-1e0b166d26d1",
   "metadata": {},
   "source": [
    "# LLM MODELS"
   ]
  },
  {
   "cell_type": "code",
   "execution_count": 9,
   "id": "553bfcfc-dd19-4cec-86b2-3f22390cf9f5",
   "metadata": {},
   "outputs": [],
   "source": [
    "chatgpt=ChatOpenAI(model_name=\"gpt-4\",temperature=0.9)"
   ]
  },
  {
   "cell_type": "markdown",
   "id": "aa53bd27-6f52-4305-9ce4-df5d57e6c6fe",
   "metadata": {},
   "source": [
    "## Access the IT Support queue data"
   ]
  },
  {
   "cell_type": "code",
   "execution_count": 11,
   "id": "805f4148-679b-456a-b8dc-63d6054877b8",
   "metadata": {},
   "outputs": [],
   "source": [
    "it_support_queue=[\"Näo consigo sincronizar meus contatos com o telefone. Sempre recebo uma mensagem de falha. \" ,\n",
    "                    \"Ho problemi a stampare i documenti da remoto. II lavoro non viene inviato alla stampante di rete. \" ,\n",
    "                  \"我无法远程打印文档。作业未发送至网络打印机。\",\n",
    "                    \"fl He Mory BOhTY•1 B CHCTemy yqeTa BpeMeHV1, noRBJIReTcg c0061L1eHb•1e 06 OUJM6Ke. MHe HY*Ha n0MOU1b.\" ,\n",
    "                    \"Internet badlantlm cok yavas ve bazen tamamen kesiliyor. Yardlm eder misiniz?\" ,\n",
    "                    \"He mory YCTaHOBMTb 06HOBneHMe 6e30nacHocTh. r10RBngeTcg KOA OLUV16KH. 110MorhTe, noxanyicra.\"]\n",
    "#give the output using JSON output paas"
   ]
  },
  {
   "cell_type": "markdown",
   "id": "3d59e5f2-3a5e-4ce4-9940-1e1a64fc492d",
   "metadata": {},
   "source": [
    "# Define Output Parser"
   ]
  },
  {
   "cell_type": "code",
   "execution_count": 13,
   "id": "807c5778-42a1-45f0-aeee-3249df53cd4a",
   "metadata": {},
   "outputs": [
    {
     "name": "stderr",
     "output_type": "stream",
     "text": [
      "C:\\Users\\KIIT\\anaconda3\\Lib\\site-packages\\IPython\\core\\interactiveshell.py:3577: LangChainDeprecationWarning: As of langchain-core 0.3.0, LangChain uses pydantic v2 internally. The langchain_core.pydantic_v1 module was a compatibility shim for pydantic v1, and should no longer be used. Please update the code to import from Pydantic directly.\n",
      "\n",
      "For example, replace imports like: `from langchain_core.pydantic_v1 import BaseModel`\n",
      "with: `from pydantic import BaseModel`\n",
      "or the v1 compatibility namespace if you are working in a code base that has not been fully upgraded to pydantic 2 yet. \tfrom pydantic.v1 import BaseModel\n",
      "\n",
      "  exec(code_obj, self.user_global_ns, self.user_ns)\n"
     ]
    }
   ],
   "source": [
    "from langchain_core.prompts import PromptTemplate\n",
    "from langchain_core.output_parsers import JsonOutputParser\n",
    "from langchain_core.pydantic_v1 import BaseModel , Field\n",
    "\n",
    "\n",
    "class itsupportresponse(BaseModel):\n",
    "    originalmsg:str =Field(Description=\"This is orginal customer IT support query message \")\n",
    "    originallang:str =Field(Description=\"Detected language of the customer e.g. spanish \")\n",
    "    categorymsg:str =Field(Description=\"1 to 2 words describing the category of the message \")\n",
    "    transmsg:str =Field(Description=\"Translated customer IT support query language in english \")\n",
    "    response:str =Field(Description=\"Response to the customer in originallang \")\n",
    "    transresponse:str =Field(Description=\"Respnse to the customer in english\")\n",
    "\n",
    "parser=JsonOutputParser(pydantic_object=itsupportresponse)"
   ]
  },
  {
   "cell_type": "markdown",
   "id": "657bcf6b-117f-4e96-81fe-7df2bdfe5707",
   "metadata": {},
   "source": [
    "# create the input prompt for the LLM "
   ]
  },
  {
   "cell_type": "code",
   "execution_count": 31,
   "id": "ed3f49ed-7b74-4c57-9b3c-1cfb43c2e257",
   "metadata": {},
   "outputs": [],
   "source": [
    "prompt_text = \"\"\"\n",
    "Act as Information Technology (IT) customer support agent.\n",
    "For the support message mentioned below,\n",
    "use the following output format while generating the output response:\n",
    "{format_instruction}\n",
    "\n",
    "Customer IT support message:\n",
    "{it_support_msg}\n",
    "\"\"\"\n",
    "\n",
    "prompt = PromptTemplate(\n",
    "    template=prompt_text,\n",
    "    input_variables=[\"it_support_msg\"],\n",
    "    partial_variables={\"format_instruction\": parser.get_format_instructions()}\n",
    ")\n"
   ]
  },
  {
   "cell_type": "markdown",
   "id": "a7299138-5ff2-4121-9756-42509dd7ded1",
   "metadata": {},
   "source": [
    "# create LCEL LLM chain"
   ]
  },
  {
   "cell_type": "code",
   "execution_count": 33,
   "id": "3ea38036-a67b-45d7-8f3e-fd1886723f1e",
   "metadata": {},
   "outputs": [],
   "source": [
    "llm_chain=(prompt|chatgpt|parser)"
   ]
  },
  {
   "cell_type": "code",
   "execution_count": 35,
   "id": "4148ac47-1ad0-46dd-98e8-252c95225163",
   "metadata": {},
   "outputs": [],
   "source": [
    "it_support_queue=[\"Näo consigo sincronizar meus contatos com o telefone. Sempre recebo uma mensagem de falha. \" ,\n",
    "                    \"Ho problemi a stampare i documenti da remoto. II lavoro non viene inviato alla stampante di rete. \" ,\n",
    "                  \"我无法远程打印文档。作业未发送至网络打印机。\",\n",
    "                    \"fl He Mory BOhTY•1 B CHCTemy yqeTa BpeMeHV1, noRBJIReTcg c0061L1eHb•1e 06 OUJM6Ke. MHe HY*Ha n0MOU1b.\" ,\n",
    "                    \"Internet badlantlm cok yavas ve bazen tamamen kesiliyor. Yardlm eder misiniz?\" ,\n",
    "                    \"He mory YCTaHOBMTb 06HOBneHMe 6e30nacHocTh. r10RBngeTcg KOA OLUV16KH. 110MorhTe, noxanyicra.\"]\n",
    "formatted_msgs=[{\"it_support_msg\": msg} for msg in it_support_queue ]"
   ]
  },
  {
   "cell_type": "code",
   "execution_count": 37,
   "id": "71f0e3e6-49b8-49dd-b3f5-f515a2a9a698",
   "metadata": {},
   "outputs": [],
   "source": [
    "responses=llm_chain.map().invoke(formatted_msgs)"
   ]
  },
  {
   "cell_type": "code",
   "execution_count": 49,
   "id": "f900af4a-4662-40dc-9343-e312f75afe20",
   "metadata": {},
   "outputs": [
    {
     "name": "stdout",
     "output_type": "stream",
     "text": [
      "[{'originalmsg': 'Näo consigo sincronizar meus contatos com o telefone. Sempre recebo uma mensagem de falha.', 'originallang': 'Portuguese', 'categorymsg': 'Sync issue', 'transmsg': \"I can't sync my contacts with the phone. I always receive a failure message.\", 'response': 'Por favor, tente reiniciar o seu telefone e tente sincronizar novamente. Se o problema persistir, por favor, verifique se a sua conta está corretamente configurada no seu telefone.', 'transresponse': 'Please try restarting your phone and sync again. If the problem persists, please check if your account is properly set up on your phone.'}, {'originalmsg': 'Ho problemi a stampare i documenti da remoto. II lavoro non viene inviato alla stampante di rete.', 'originallang': 'Italian', 'categorymsg': 'Printer Issue', 'transmsg': \"I'm having trouble printing documents remotely. The job is not sent to the network printer.\", 'response': 'Assicurati che la tua stampante sia connessa alla stessa rete del tuo dispositivo. Se il problema persiste, prova a riavviare sia il tuo dispositivo che la stampante.', 'transresponse': 'Make sure your printer is connected to the same network as your device. If the problem persists, try restarting both your device and the printer.'}, {'originalmsg': '我无法远程打印文档。作业未发送至网络打印机。', 'originallang': 'chinese', 'categorymsg': 'Printing issue', 'transmsg': \"I can't remotely print the document. The job was not sent to the network printer.\", 'response': '请检查您的网络连接和打印机设置。确保打印机已连接到网络并且已启用远程打印。', 'transresponse': 'Please check your network connection and printer settings. Make sure the printer is connected to the network and remote printing is enabled.'}, {'originalmsg': 'fl He Mory BOhTY•1 B CHCTemy yqeTa BpeMeHV1, noRBJIReTcg c0061L1eHb•1e 06 OUJM6Ke. MHe HY*Ha n0MOU1b.', 'originallang': 'russian', 'categorymsg': 'System Issue', 'transmsg': \"I can't get into the system, it's always busy. I need help.\", 'response': 'Извините за неудобства. Попробуйте перезагрузить свою систему и проверьте свое интернет-соединение. Если проблема не решится, свяжитесь с нами снова.', 'transresponse': 'Sorry for the inconvenience. Try rebooting your system and check your internet connection. If the problem persists, please contact us again.'}, {'originalmsg': 'Internet badlantlm cok yavas ve bazen tamamen kesiliyor. Yardlm eder misiniz?', 'originallang': 'Turkish', 'categorymsg': 'Internet Issue', 'transmsg': 'My internet connection is very slow and sometimes it completely cuts off. Can you help?', 'response': 'Evet, tabii ki yardımcı olabilirim. Modeminizi yeniden başlatmayı denediniz mi?', 'transresponse': 'Yes, of course, I can help. Have you tried rebooting your modem?'}, {'originalmsg': 'He mory YCTaHOBMTb 06HOBneHMe 6e30nacHocTh. r10RBngeTcg KOA OLUV16KH. 110MorhTe, noxanyicra.', 'originallang': 'russian', 'categorymsg': 'installation issue', 'transmsg': \"I can't install the security update. Gets stuck at 16 percent. Please, assist.\", 'response': 'Пожалуйста, попробуйте перезагрузить ваше устройство и начать установку снова. Если проблема продолжится, обратитесь в службу поддержки производителя.', 'transresponse': \"Please try rebooting your device and start the installation again. If the issue persists, contact the manufacturer's support service.\"}]\n"
     ]
    }
   ],
   "source": [
    "print(responses)"
   ]
  },
  {
   "cell_type": "code",
   "execution_count": null,
   "id": "09611d43-5127-42c1-b137-2f9399a3acea",
   "metadata": {},
   "outputs": [],
   "source": []
  }
 ],
 "metadata": {
  "kernelspec": {
   "display_name": "Python [conda env:base] *",
   "language": "python",
   "name": "conda-base-py"
  },
  "language_info": {
   "codemirror_mode": {
    "name": "ipython",
    "version": 3
   },
   "file_extension": ".py",
   "mimetype": "text/x-python",
   "name": "python",
   "nbconvert_exporter": "python",
   "pygments_lexer": "ipython3",
   "version": "3.12.7"
  }
 },
 "nbformat": 4,
 "nbformat_minor": 5
}
